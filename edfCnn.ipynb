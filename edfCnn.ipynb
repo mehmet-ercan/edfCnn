{
 "cells": [
  {
   "metadata": {},
   "cell_type": "code",
   "source": [
    "import glob\n",
    "import math\n",
    "import ntpath\n",
    "import os\n",
    "import warnings\n",
    "\n",
    "import edfreader\n",
    "import matplotlib.pyplot as plt\n",
    "import mne\n",
    "import models\n",
    "import numpy as np\n",
    "import pandas as pd\n",
    "import seaborn as sns\n",
    "\n",
    "warnings.filterwarnings('ignore')\n",
    "\n",
    "from matplotlib.backends.backend_pdf import PdfPages\n",
    "from mne.datasets.sleep_physionet._utils import _fetch_one, _data_path, AGE_SLEEP_RECORDS\n",
    "from datetime import datetime\n",
    "from tqdm.notebook import tqdm\n",
    "from sklearn.model_selection import train_test_split\n",
    "import pyeeg # pip install git+https://github.com/forrestbao/pyeeg.git\n",
    "from keras.src.utils import to_categorical\n",
    "from keras.src.callbacks import ModelCheckpoint, ReduceLROnPlateau, CSVLogger\n",
    "from sklearn.svm import SVC\n",
    "from sklearn.metrics import f1_score, accuracy_score, classification_report, log_loss\n",
    "from sklearn.tree import DecisionTreeClassifier\n",
    "from sklearn.neighbors import KNeighborsClassifier\n",
    "from sklearn.ensemble import RandomForestClassifier, AdaBoostClassifier\n",
    "from sklearn.naive_bayes import GaussianNB\n",
    "from sklearn.discriminant_analysis import LinearDiscriminantAnalysis\n",
    "from sklearn.discriminant_analysis import QuadraticDiscriminantAnalysis\n",
    "from xgboost import XGBClassifier\n",
    "from hurst import compute_Hc\n",
    "\n",
    "warnings.filterwarnings('ignore')"
   ],
   "id": "c27371579fcdbba4",
   "outputs": [],
   "execution_count": null
  },
  {
   "metadata": {},
   "cell_type": "code",
   "source": [
    "import tensorflow as tf\n",
    "\n",
    "print(\"TensorFlow version:\", tf.__version__)\n",
    "print(\"Num GPUs Available:\", len(tf.config.list_physical_devices('GPU')))\n",
    "print(\"GPU Devices:\", tf.config.list_physical_devices('GPU'))\n",
    "\n",
    "warnings.filterwarnings('ignore')"
   ],
   "id": "facb506fff9c013b",
   "outputs": [],
   "execution_count": null
  },
  {
   "metadata": {
    "collapsed": true
   },
   "cell_type": "code",
   "source": [
    "VBS = True  # constant boolean to enable/disbale verbose\n",
    "EPOCH_SEC_SIZE = 30  # Epoch duration selection\n",
    "seed = 42  # seed value for the random seeds\n",
    "batch_size = 64\n",
    "number_of_subj = 50\n",
    "\n",
    "# values to label the stages\n",
    "UNKNOWN = -1\n",
    "W = 0\n",
    "N1 = 1\n",
    "N2 = 2\n",
    "N3 = 3\n",
    "REM = 4\n",
    "\n",
    "# making string dictionary for the label values\n",
    "label_dict = {\n",
    "    \"UNKNOWN\"  : UNKNOWN,\n",
    "    \"W\"        : W,\n",
    "    \"N1\"       : N1,\n",
    "    \"N2\"       : N2,\n",
    "    \"N3\"       : N3,\n",
    "    \"REM\"      : REM\n",
    "}\n",
    "\n",
    "# converting from label values to strings\n",
    "class_dict = {\n",
    "    -1: \"UNKNOWN\",\n",
    "    0 : \"W\",\n",
    "    1 : \"N1\",\n",
    "    2 : \"N2\",\n",
    "    3 : \"N3\",\n",
    "    4 : \"REM\"\n",
    "}\n",
    "\n",
    "# annotation dictionary to convert from string to label values\n",
    "annot2label = {\n",
    "    \"Sleep stage ?\": -1,\n",
    "    \"Movement time\": -1,\n",
    "    \"Sleep stage W\": 0,\n",
    "    \"Sleep stage 1\": 1,\n",
    "    \"Sleep stage 2\": 2,\n",
    "    \"Sleep stage 3\": 3,\n",
    "    \"Sleep stage 4\": 3,\n",
    "    \"Sleep stage R\": 4\n",
    "}\n",
    "project_path = os.path.abspath(os.getcwd())  # finding the current project path in windows"
   ],
   "id": "initial_id",
   "outputs": [],
   "execution_count": null
  },
  {
   "metadata": {},
   "cell_type": "markdown",
   "source": "",
   "id": "827135836a35b572"
  },
  {
   "metadata": {},
   "cell_type": "code",
   "source": [
    "# localized fetch_data function by using mne library\n",
    "# https://github.com/mne-tools/mne-python/blob/maint/0.20/mne/datasets/sleep_physionet/age.py#L18-L111\n",
    "data_path = _data_path\n",
    "BASE_URL = 'https://physionet.org/physiobank/database/sleep-edfx/sleep-cassette/'\n",
    "def fetch_data(subjects, recording=None, path=None, force_update=False,\n",
    "               base_url=BASE_URL,\n",
    "               verbose=None):  # noqa: D301\n",
    "    if recording is None:\n",
    "        recording = [1, 2]\n",
    "    records = np.loadtxt(AGE_SLEEP_RECORDS,\n",
    "                         skiprows=1,\n",
    "                         delimiter=',',\n",
    "                         usecols=(0, 1, 2, 6, 7),\n",
    "                         dtype={'names': ('subject', 'record', 'type', 'sha',\n",
    "                                          'fname'),\n",
    "                                'formats': ('<i2', 'i1', '<S9', 'S40', '<S22')}\n",
    "                         )\n",
    "    psg_records = records[np.where(records['type'] == b'PSG')]\n",
    "    hyp_records = records[np.where(records['type'] == b'Hypnogram')]\n",
    "\n",
    "    path = data_path(path=path)\n",
    "    params = [path, force_update, base_url]\n",
    "    fnames = []\n",
    "    for subject in subjects:\n",
    "        for idx in np.where(psg_records['subject'] == subject)[0]:\n",
    "            if psg_records['record'][idx] in recording:\n",
    "                psg_fname = _fetch_one(psg_records['fname'][idx].decode(),\n",
    "                                       psg_records['sha'][idx].decode(),\n",
    "                                       *params)\n",
    "                hyp_fname = _fetch_one(hyp_records['fname'][idx].decode(),\n",
    "                                       hyp_records['sha'][idx].decode(),\n",
    "                                       *params)\n",
    "                fnames.append([psg_fname, hyp_fname])\n",
    "\n",
    "    return fnames"
   ],
   "id": "d1d425ffd8a22a1e",
   "outputs": [],
   "execution_count": null
  },
  {
   "metadata": {},
   "cell_type": "code",
   "source": [
    "subjects_list = []  # list to keep the address of the subject data\n",
    "except_sub = [13, 36, 52]  # omitting the subjects with incomplete data\n",
    "\n",
    "# for i in range(83):\n",
    "#     if i in except_sub:\n",
    "#         continue\n",
    "#     subjects_list.append(i)\n",
    "subjects_list = [0,1]\n",
    "\n",
    "# fetching data of each subject and\n",
    "subject_files = fetch_data(subjects=subjects_list, recording=[1, 2], path= project_path)\n",
    "mapping = {'EOG horizontal': 'eog',\n",
    "           'Resp oro-nasal': 'misc',\n",
    "           'EMG submental': 'misc',\n",
    "           'Temp rectal': 'misc',\n",
    "           'Event marker': 'misc'}"
   ],
   "id": "acbea0a18f32f5cb",
   "outputs": [],
   "execution_count": null
  },
  {
   "metadata": {},
   "cell_type": "code",
   "source": [
    "ch_labels = 'EEG Fpz-Cz'  # channels to be selected\n",
    "data_frames = []\n",
    "if VBS:\n",
    "    print(\"Importing data into dataframes:\")\n",
    "output_path = os.path.join(project_path, \"NPZ_files\")  # path to save the npz files\n",
    "# loop to preprocess input data and save the results in npz files to be used in our models later\n",
    "for edf_item in tqdm(subject_files):\n",
    "    # v2_upt item[0] > edf_item[0][0]\n",
    "    filename = ntpath.basename(edf_item[0][0]).replace(\"-PSG.edf\", \".npz\")  # reading the PSG files\n",
    "    if not os.path.exists(os.path.join(output_path, filename)):\n",
    "        raw_train = mne.io.read_raw_edf(edf_item[0][0], verbose=VBS)\n",
    "        sampling_rate = raw_train.info['sfreq']\n",
    "        raw_ch_df = raw_train.to_data_frame()[ch_labels]\n",
    "        raw_ch_df = raw_ch_df.to_frame()\n",
    "        raw_ch_df.set_index(np.arange(len(raw_ch_df)))\n",
    "\n",
    "        # reading the raw headers using the EDFReader function from edfreader\n",
    "        f = open(edf_item[0][0], 'r', errors='ignore', encoding='utf-8')\n",
    "        head_raw_read = edfreader.BaseEDFReader(f)\n",
    "        head_raw_read.read_header()\n",
    "        head_raw = head_raw_read.header\n",
    "        f.close()\n",
    "        raw_start_time = datetime.strptime(head_raw['date_time'], \"%Y-%m-%d %H:%M:%S\")\n",
    "\n",
    "        # read annotations from hypnogram file\n",
    "        f = open(edf_item[1][0], 'r')\n",
    "        annot_raw_read = edfreader.BaseEDFReader(f)\n",
    "        annot_raw_read.read_header()\n",
    "        annot_raw = annot_raw_read.header\n",
    "        temp, temp, total_annot = zip(*annot_raw_read.records())\n",
    "        f.close()\n",
    "        annot_start_time = datetime.strptime(annot_raw['date_time'], \"%Y-%m-%d %H:%M:%S\")\n",
    "        assert raw_start_time == annot_start_time  # making sure that the PSG files and hypnogram files are in sync\n",
    "        remove_idx = []    # list to keep the indicies of data that will be removed\n",
    "        labels = []        # list to keep the indicies of data that have labels\n",
    "        label_idx = []\n",
    "\n",
    "        # selecting the indicies of known labels and adding the rest to remove_idx list\n",
    "        for annot in total_annot[0]:\n",
    "            onset_sec, duration_sec, annot_char = annot\n",
    "            annot_str = \"\".join(annot_char)\n",
    "            label = annot2label[annot_str]\n",
    "            if label != UNKNOWN:\n",
    "                if duration_sec % EPOCH_SEC_SIZE != 0:\n",
    "                    raise Exception(\"Please choose anothe epoch duration!\")\n",
    "                duration_epoch = int(duration_sec / EPOCH_SEC_SIZE)\n",
    "                label_epoch = np.ones(duration_epoch, dtype=int) * label\n",
    "                labels.append(label_epoch)\n",
    "                idx = int(onset_sec * sampling_rate) + np.arange(duration_sec * sampling_rate, dtype=int)\n",
    "                label_idx.append(idx)\n",
    "            else:\n",
    "                idx = int(onset_sec * sampling_rate) + np.arange(duration_sec * sampling_rate, dtype=int)\n",
    "                remove_idx.append(idx)\n",
    "        labels = np.hstack(labels)\n",
    "        if len(remove_idx) > 0:\n",
    "            remove_idx = np.hstack(remove_idx)\n",
    "            select_idx = np.setdiff1d(np.arange(len(raw_ch_df)), remove_idx)\n",
    "        else:\n",
    "            select_idx = np.arange(len(raw_ch_df))\n",
    "\n",
    "        # filtering data with labels only\n",
    "        label_idx = np.hstack(label_idx)\n",
    "        select_idx = np.intersect1d(select_idx, label_idx)\n",
    "\n",
    "        # removing extra indicies\n",
    "        if len(label_idx) > len(select_idx):\n",
    "            extra_idx = np.setdiff1d(label_idx, select_idx)\n",
    "            # trimming the tail\n",
    "            if np.all(extra_idx > select_idx[-1]):\n",
    "                n_trims = len(select_idx) % int(EPOCH_SEC_SIZE * sampling_rate)\n",
    "                n_label_trims = int(math.ceil(n_trims / (EPOCH_SEC_SIZE * sampling_rate)))\n",
    "                select_idx = select_idx[:-n_trims]\n",
    "                labels = labels[:-n_label_trims]\n",
    "\n",
    "        # removing all unknown and movement labels\n",
    "        raw_ch = raw_ch_df.values[select_idx]\n",
    "\n",
    "        # check if we can split into epochs' size\n",
    "        if len(raw_ch) % (EPOCH_SEC_SIZE * sampling_rate) != 0:\n",
    "            raise Exception(\"Please choose anothe epoch duration!\")\n",
    "        n_epochs = len(raw_ch) / (EPOCH_SEC_SIZE * sampling_rate)\n",
    "\n",
    "        # get epochs and their corresponding labels\n",
    "        x = np.asarray(np.split(raw_ch, n_epochs)).astype(np.float32)\n",
    "        y = labels.astype(np.int32)\n",
    "\n",
    "        assert len(x) == len(y)\n",
    "\n",
    "        # select on sleep periods\n",
    "        w_edge_mins = 30\n",
    "        nw_idx = np.where(y != label_dict[\"W\"])[0]\n",
    "        start_idx = nw_idx[0] - (w_edge_mins * 2)\n",
    "        end_idx = nw_idx[-1] + (w_edge_mins * 2)\n",
    "        if start_idx < 0: start_idx = 0\n",
    "        if end_idx >= len(y): end_idx = len(y) - 1\n",
    "        select_idx = np.arange(start_idx, end_idx+1)\n",
    "        x = x[select_idx]\n",
    "        y = y[select_idx]\n",
    "\n",
    "        # file structure for saving\n",
    "        save_dict = {\n",
    "            \"x\": x,\n",
    "            \"y\": y,\n",
    "            \"fs\": sampling_rate,\n",
    "            \"ch_label\": ch_labels,\n",
    "            \"header_raw\": head_raw,\n",
    "            \"header_annotation\": annot_raw,\n",
    "        }\n",
    "        if not os.path.exists(output_path):\n",
    "            os.makedirs(output_path)\n",
    "        np.savez(os.path.join(output_path, filename), **save_dict)"
   ],
   "id": "1fba0de794364000",
   "outputs": [],
   "execution_count": null
  },
  {
   "metadata": {},
   "cell_type": "code",
   "source": [
    "pdf_report = PdfPages('Sleep_Plots.pdf')\n",
    "for edf_item in tqdm(subject_files[:20]):  # selecting the first 20 subjects\n",
    "    raw_train = mne.io.read_raw_edf(edf_item[0][0], verbose=VBS)\n",
    "    annot_train = mne.read_annotations(edf_item[1][0])  # reading the hypnogram files\n",
    "\n",
    "    raw_train.set_annotations(annot_train, emit_warning=False)\n",
    "    raw_train.set_channel_types(mapping)\n",
    "    figure = plt.figure()\n",
    "    figure.suptitle(\"Subject: \" + str(edf_item[0][0][-13:-11]) + \", Night: \" + str(edf_item[0][0][-11:-10]))\n",
    "    # v2_upt pdf_report.savefig(figure, papertype='a0', bbox_inches='tight')\n",
    "    pdf_report.savefig(figure, bbox_inches='tight')\n",
    "    # v2_upt pdf_report.savefig(raw_train.plot(duration=30), papertype='a0', bbox_inches='tight')\n",
    "    pdf_report.savefig(raw_train.plot(duration=30), bbox_inches='tight')\n",
    "\n",
    "    annotation_desc_2_event_id = {'Sleep stage R': -1,\n",
    "                                  'Sleep stage W': 1,\n",
    "                                  'Sleep stage 1': 2,\n",
    "                                  'Sleep stage 2': 3,\n",
    "                                  'Sleep stage 3': 4,\n",
    "                                  'Sleep stage 4': 4\n",
    "    }\n",
    "\n",
    "    events_train, _ = mne.events_from_annotations(\n",
    "        raw_train, event_id=annotation_desc_2_event_id, chunk_duration=30.)\n",
    "\n",
    "    # create a new event_id that unifies stages 3 and 4\n",
    "    event_id = {'Sleep stage R'  : -1,\n",
    "                'Sleep stage W'  : 1,\n",
    "                'Sleep stage 1'  : 2,\n",
    "                'Sleep stage 2'  : 3,\n",
    "                'Sleep stage 3/4': 4\n",
    "    }\n",
    "    # plot events and saving them in PDF report\n",
    "    pdf_report.savefig(mne.viz.plot_events(events_train, event_id=event_id,\n",
    "                        sfreq=raw_train.info['sfreq']), bbox_inches='tight')\n",
    "pdf_report.close()"
   ],
   "id": "1252d1e04369a6d9",
   "outputs": [],
   "execution_count": null
  },
  {
   "metadata": {},
   "cell_type": "code",
   "source": [
    "Fs= 100\n",
    "band_list = [0.5,4,7,12,30]\n",
    "PSD = []  # Power Spectral Density\n",
    "PFD = []  # Petrosian Fractal Dimension\n",
    "hjorths = []  # Hjorth Parameters\n",
    "hursts = []  # Hurst Exponent\n",
    "DFA = []  # Detrended Fluctuation Analysis\n",
    "for edf_item in tqdm(subject_files[:5]):\n",
    "    raw_test = mne.io.read_raw_edf(edf_item[0][0], verbose=False)\n",
    "    signals_list = raw_test[0][0][0]\n",
    "    first_order = np.diff(signals_list).tolist()\n",
    "    PSD.append(pyeeg.bin_power(signals_list, band_list, Fs))\n",
    "    PFD.append(pyeeg.pfd(signals_list, first_order))\n",
    "    hjorths.append(pyeeg.hjorth(signals_list, first_order))\n",
    "    hursts.append(compute_Hc(signals_list, kind='change', min_window=100))\n",
    "    DFA.append(pyeeg.dfa(signals_list))"
   ],
   "id": "34c74a7bd3017e91",
   "outputs": [],
   "execution_count": null
  },
  {
   "metadata": {},
   "cell_type": "code",
   "source": [
    "if VBS:\n",
    "    print(\"Petrosian Fractal Dimension (PFD): \", PFD)\n",
    "    print(\"Hjorth mobility and complexity: \", hjorths)\n",
    "    print(\"Detrended Fluctuation Analysis (DFA): \", DFA)\n",
    "    print(\"Hurst Exponent (Hurst): \", hursts)"
   ],
   "id": "99e0b989c6dd2408",
   "outputs": [],
   "execution_count": null
  },
  {
   "metadata": {},
   "cell_type": "code",
   "source": [
    "npz_files = sorted(glob.glob(os.path.join(output_path, \"*.npz\")))\n",
    "X = np.zeros((0, 3000, 1))\n",
    "y = []\n",
    "for fn in tqdm(npz_files[:number_of_subj]):\n",
    "    samples = np.load(fn)\n",
    "    X_data = samples['x']\n",
    "    X = np.concatenate((X, X_data), axis=0)\n",
    "    y.extend(samples['y'])\n",
    "y = np.array(y)"
   ],
   "id": "2129e56730c85f5e",
   "outputs": [],
   "execution_count": null
  },
  {
   "metadata": {},
   "cell_type": "code",
   "source": [
    "pd.Series(y).value_counts().plot.bar()\n",
    "plt.title(\"Frequency of the labels in our dataset\")"
   ],
   "id": "474f8a70c360176d",
   "outputs": [],
   "execution_count": null
  },
  {
   "metadata": {},
   "cell_type": "code",
   "source": [
    "if VBS:\n",
    "    print(\"Shape of the input data: {}\".format(X.shape))\n",
    "    print(\"Shape of the sleep stages: {}\".format(y.shape))\n",
    "# splitting subjects\n",
    "X_train, X_test, y_train, y_test = train_test_split(X, y, test_size=0.1, random_state=seed)\n",
    "# splitting sleeping signals\n",
    "X_train, X_val, y_train, y_val = train_test_split(X_train, y_train, test_size=0.1, random_state=seed)\n",
    "if VBS:\n",
    "    print(\"Shape of the training dataset:\\ntraining dataset: {}\\ntest_dataset: {}\\n\"\n",
    "          .format(X_train.shape, X_test.shape))\n",
    "y_train_ = to_categorical(y_train)\n",
    "y_val_ = to_categorical(y_val)\n",
    "y_test_ = to_categorical(y_test)\n",
    "\n",
    "# X_train = np.squeeze(X_train)\n",
    "# X_test = np.squeeze(X_test)\n",
    "# X_val = np.squeeze(X_val)"
   ],
   "id": "f70c13a895c3e075",
   "outputs": [],
   "execution_count": null
  },
  {
   "metadata": {},
   "cell_type": "code",
   "source": [
    "pp_X_train = np.array([models.butter_bandpass_filter(sample, highpass=40.0, fs=100, order=4) for sample in X_train])\n",
    "pp_X_val = np.array([models.butter_bandpass_filter(sample, highpass=40.0, fs=100, order=4) for sample in X_val])\n",
    "pp_X_test = np.array([models.butter_bandpass_filter(sample, highpass=40.0, fs=100, order=4) for sample in X_test])\n",
    "# pp_X_test = np.expand_dims(pp_X_test, axis=2)\n",
    "# pp_X_train = np.expand_dims(pp_X_train, axis=2)\n",
    "# pp_X_val = np.expand_dims(pp_X_val, axis=2)\n",
    "if VBS:\n",
    "    print(pp_X_val.shape)\n",
    "    print(pp_X_train.shape)"
   ],
   "id": "957ca66dd5cb2112",
   "outputs": [],
   "execution_count": null
  },
  {
   "metadata": {},
   "cell_type": "code",
   "source": [
    "checkpoint = ModelCheckpoint(\"model_cps.keras\", monitor='val_loss', verbose=1, save_best_only=True, mode='max')\n",
    "redonplat = ReduceLROnPlateau(monitor=\"val_loss\", mode=\"max\", patience=5, verbose=2)\n",
    "csv_logger = CSVLogger('log_training.csv', append=True, separator=',')\n",
    "callbacks_list = [\n",
    "    checkpoint,\n",
    "    redonplat,\n",
    "    csv_logger,\n",
    "]"
   ],
   "id": "1de7fd2114ecbb41",
   "outputs": [],
   "execution_count": null
  },
  {
   "metadata": {},
   "cell_type": "code",
   "source": [
    "model_cnn = models.model_b(verbose=VBS)\n",
    "hist_19 = model_cnn.fit(\n",
    "    pp_X_train, y_train_, batch_size=batch_size, epochs=30, validation_data=(pp_X_val, y_val_), callbacks=callbacks_list, verbose=VBS\n",
    ")"
   ],
   "id": "dded911f99fd1bb2",
   "outputs": [],
   "execution_count": null
  },
  {
   "metadata": {
    "ExecuteTime": {
     "end_time": "2025-04-06T13:00:23.392587Z",
     "start_time": "2025-04-06T13:00:22.744528Z"
    }
   },
   "cell_type": "code",
   "source": [
    "y_pred = model_cnn.predict(pp_X_test, batch_size=batch_size)\n",
    "y_pred = np.array([np.argmax(s) for s in y_pred])\n",
    "f1_cnn = f1_score(y_test, y_pred, average=\"macro\")\n",
    "if VBS:\n",
    "    print(\"F1 score: {}\".format(f1_cnn))\n",
    "    report = classification_report(y_test, y_pred)\n",
    "    print(report)"
   ],
   "id": "71a1754076766379",
   "outputs": [
    {
     "name": "stdout",
     "output_type": "stream",
     "text": [
      "\u001B[1m1/7\u001B[0m \u001B[32m━━\u001B[0m\u001B[37m━━━━━━━━━━━━━━━━━━\u001B[0m \u001B[1m0s\u001B[0m 142ms/step"
     ]
    },
    {
     "name": "stderr",
     "output_type": "stream",
     "text": [
      "W0000 00:00:1743944423.072190   72640 gpu_timer.cc:114] Skipping the delay kernel, measurement accuracy will be reduced\n",
      "W0000 00:00:1743944423.073905   72640 gpu_timer.cc:114] Skipping the delay kernel, measurement accuracy will be reduced\n",
      "W0000 00:00:1743944423.075428   72640 gpu_timer.cc:114] Skipping the delay kernel, measurement accuracy will be reduced\n",
      "W0000 00:00:1743944423.076927   72640 gpu_timer.cc:114] Skipping the delay kernel, measurement accuracy will be reduced\n",
      "W0000 00:00:1743944423.078412   72640 gpu_timer.cc:114] Skipping the delay kernel, measurement accuracy will be reduced\n",
      "W0000 00:00:1743944423.080047   72640 gpu_timer.cc:114] Skipping the delay kernel, measurement accuracy will be reduced\n",
      "W0000 00:00:1743944423.081607   72640 gpu_timer.cc:114] Skipping the delay kernel, measurement accuracy will be reduced\n",
      "W0000 00:00:1743944423.083123   72640 gpu_timer.cc:114] Skipping the delay kernel, measurement accuracy will be reduced\n",
      "W0000 00:00:1743944423.084590   72640 gpu_timer.cc:114] Skipping the delay kernel, measurement accuracy will be reduced\n",
      "W0000 00:00:1743944423.086166   72640 gpu_timer.cc:114] Skipping the delay kernel, measurement accuracy will be reduced\n",
      "W0000 00:00:1743944423.088442   72640 gpu_timer.cc:114] Skipping the delay kernel, measurement accuracy will be reduced\n",
      "W0000 00:00:1743944423.090853   72640 gpu_timer.cc:114] Skipping the delay kernel, measurement accuracy will be reduced\n",
      "W0000 00:00:1743944423.092461   72640 gpu_timer.cc:114] Skipping the delay kernel, measurement accuracy will be reduced\n",
      "W0000 00:00:1743944423.096127   72640 gpu_timer.cc:114] Skipping the delay kernel, measurement accuracy will be reduced\n",
      "W0000 00:00:1743944423.097605   72640 gpu_timer.cc:114] Skipping the delay kernel, measurement accuracy will be reduced\n",
      "W0000 00:00:1743944423.099074   72640 gpu_timer.cc:114] Skipping the delay kernel, measurement accuracy will be reduced\n",
      "W0000 00:00:1743944423.100556   72640 gpu_timer.cc:114] Skipping the delay kernel, measurement accuracy will be reduced\n",
      "W0000 00:00:1743944423.102143   72640 gpu_timer.cc:114] Skipping the delay kernel, measurement accuracy will be reduced\n",
      "W0000 00:00:1743944423.103614   72640 gpu_timer.cc:114] Skipping the delay kernel, measurement accuracy will be reduced\n",
      "W0000 00:00:1743944423.105028   72640 gpu_timer.cc:114] Skipping the delay kernel, measurement accuracy will be reduced\n",
      "W0000 00:00:1743944423.106523   72640 gpu_timer.cc:114] Skipping the delay kernel, measurement accuracy will be reduced\n",
      "W0000 00:00:1743944423.108172   72640 gpu_timer.cc:114] Skipping the delay kernel, measurement accuracy will be reduced\n",
      "W0000 00:00:1743944423.109670   72640 gpu_timer.cc:114] Skipping the delay kernel, measurement accuracy will be reduced\n",
      "W0000 00:00:1743944423.111223   72640 gpu_timer.cc:114] Skipping the delay kernel, measurement accuracy will be reduced\n",
      "W0000 00:00:1743944423.113079   72640 gpu_timer.cc:114] Skipping the delay kernel, measurement accuracy will be reduced\n",
      "W0000 00:00:1743944423.115341   72640 gpu_timer.cc:114] Skipping the delay kernel, measurement accuracy will be reduced\n",
      "W0000 00:00:1743944423.126979   72640 gpu_timer.cc:114] Skipping the delay kernel, measurement accuracy will be reduced\n",
      "W0000 00:00:1743944423.128882   72640 gpu_timer.cc:114] Skipping the delay kernel, measurement accuracy will be reduced\n",
      "W0000 00:00:1743944423.130404   72640 gpu_timer.cc:114] Skipping the delay kernel, measurement accuracy will be reduced\n",
      "W0000 00:00:1743944423.131906   72640 gpu_timer.cc:114] Skipping the delay kernel, measurement accuracy will be reduced\n",
      "W0000 00:00:1743944423.133742   72640 gpu_timer.cc:114] Skipping the delay kernel, measurement accuracy will be reduced\n",
      "W0000 00:00:1743944423.135424   72640 gpu_timer.cc:114] Skipping the delay kernel, measurement accuracy will be reduced\n",
      "W0000 00:00:1743944423.137808   72640 gpu_timer.cc:114] Skipping the delay kernel, measurement accuracy will be reduced\n",
      "W0000 00:00:1743944423.139324   72640 gpu_timer.cc:114] Skipping the delay kernel, measurement accuracy will be reduced\n",
      "W0000 00:00:1743944423.140840   72640 gpu_timer.cc:114] Skipping the delay kernel, measurement accuracy will be reduced\n",
      "W0000 00:00:1743944423.142375   72640 gpu_timer.cc:114] Skipping the delay kernel, measurement accuracy will be reduced\n",
      "W0000 00:00:1743944423.144139   72640 gpu_timer.cc:114] Skipping the delay kernel, measurement accuracy will be reduced\n",
      "W0000 00:00:1743944423.145654   72640 gpu_timer.cc:114] Skipping the delay kernel, measurement accuracy will be reduced\n",
      "W0000 00:00:1743944423.147182   72640 gpu_timer.cc:114] Skipping the delay kernel, measurement accuracy will be reduced\n",
      "W0000 00:00:1743944423.148690   72640 gpu_timer.cc:114] Skipping the delay kernel, measurement accuracy will be reduced\n",
      "W0000 00:00:1743944423.150404   72640 gpu_timer.cc:114] Skipping the delay kernel, measurement accuracy will be reduced\n",
      "W0000 00:00:1743944423.151917   72640 gpu_timer.cc:114] Skipping the delay kernel, measurement accuracy will be reduced\n",
      "W0000 00:00:1743944423.153420   72640 gpu_timer.cc:114] Skipping the delay kernel, measurement accuracy will be reduced\n",
      "W0000 00:00:1743944423.154979   72640 gpu_timer.cc:114] Skipping the delay kernel, measurement accuracy will be reduced\n",
      "W0000 00:00:1743944423.157039   72640 gpu_timer.cc:114] Skipping the delay kernel, measurement accuracy will be reduced\n",
      "W0000 00:00:1743944423.159225   72640 gpu_timer.cc:114] Skipping the delay kernel, measurement accuracy will be reduced\n",
      "W0000 00:00:1743944423.160756   72640 gpu_timer.cc:114] Skipping the delay kernel, measurement accuracy will be reduced\n",
      "W0000 00:00:1743944423.162372   72640 gpu_timer.cc:114] Skipping the delay kernel, measurement accuracy will be reduced\n",
      "W0000 00:00:1743944423.164167   72640 gpu_timer.cc:114] Skipping the delay kernel, measurement accuracy will be reduced\n",
      "W0000 00:00:1743944423.165713   72640 gpu_timer.cc:114] Skipping the delay kernel, measurement accuracy will be reduced\n",
      "W0000 00:00:1743944423.167373   72640 gpu_timer.cc:114] Skipping the delay kernel, measurement accuracy will be reduced\n",
      "W0000 00:00:1743944423.168910   72640 gpu_timer.cc:114] Skipping the delay kernel, measurement accuracy will be reduced\n",
      "W0000 00:00:1743944423.170628   72640 gpu_timer.cc:114] Skipping the delay kernel, measurement accuracy will be reduced\n",
      "W0000 00:00:1743944423.172192   72640 gpu_timer.cc:114] Skipping the delay kernel, measurement accuracy will be reduced\n",
      "W0000 00:00:1743944423.173779   72640 gpu_timer.cc:114] Skipping the delay kernel, measurement accuracy will be reduced\n",
      "W0000 00:00:1743944423.175350   72640 gpu_timer.cc:114] Skipping the delay kernel, measurement accuracy will be reduced\n",
      "W0000 00:00:1743944423.177111   72640 gpu_timer.cc:114] Skipping the delay kernel, measurement accuracy will be reduced\n",
      "W0000 00:00:1743944423.178899   72640 gpu_timer.cc:114] Skipping the delay kernel, measurement accuracy will be reduced\n",
      "W0000 00:00:1743944423.180456   72640 gpu_timer.cc:114] Skipping the delay kernel, measurement accuracy will be reduced\n",
      "W0000 00:00:1743944423.186849   72640 gpu_timer.cc:114] Skipping the delay kernel, measurement accuracy will be reduced\n",
      "W0000 00:00:1743944423.188375   72640 gpu_timer.cc:114] Skipping the delay kernel, measurement accuracy will be reduced\n",
      "W0000 00:00:1743944423.189824   72640 gpu_timer.cc:114] Skipping the delay kernel, measurement accuracy will be reduced\n",
      "W0000 00:00:1743944423.191440   72640 gpu_timer.cc:114] Skipping the delay kernel, measurement accuracy will be reduced\n",
      "W0000 00:00:1743944423.192872   72640 gpu_timer.cc:114] Skipping the delay kernel, measurement accuracy will be reduced\n",
      "W0000 00:00:1743944423.194350   72640 gpu_timer.cc:114] Skipping the delay kernel, measurement accuracy will be reduced\n",
      "W0000 00:00:1743944423.195793   72640 gpu_timer.cc:114] Skipping the delay kernel, measurement accuracy will be reduced\n",
      "W0000 00:00:1743944423.197229   72640 gpu_timer.cc:114] Skipping the delay kernel, measurement accuracy will be reduced\n",
      "W0000 00:00:1743944423.198672   72640 gpu_timer.cc:114] Skipping the delay kernel, measurement accuracy will be reduced\n",
      "W0000 00:00:1743944423.200111   72640 gpu_timer.cc:114] Skipping the delay kernel, measurement accuracy will be reduced\n",
      "W0000 00:00:1743944423.201561   72640 gpu_timer.cc:114] Skipping the delay kernel, measurement accuracy will be reduced\n",
      "W0000 00:00:1743944423.202988   72640 gpu_timer.cc:114] Skipping the delay kernel, measurement accuracy will be reduced\n",
      "W0000 00:00:1743944423.204412   72640 gpu_timer.cc:114] Skipping the delay kernel, measurement accuracy will be reduced\n",
      "W0000 00:00:1743944423.206226   72640 gpu_timer.cc:114] Skipping the delay kernel, measurement accuracy will be reduced\n",
      "W0000 00:00:1743944423.207648   72640 gpu_timer.cc:114] Skipping the delay kernel, measurement accuracy will be reduced\n",
      "W0000 00:00:1743944423.209069   72640 gpu_timer.cc:114] Skipping the delay kernel, measurement accuracy will be reduced\n",
      "W0000 00:00:1743944423.210491   72640 gpu_timer.cc:114] Skipping the delay kernel, measurement accuracy will be reduced\n",
      "W0000 00:00:1743944423.211933   72640 gpu_timer.cc:114] Skipping the delay kernel, measurement accuracy will be reduced\n",
      "W0000 00:00:1743944423.213363   72640 gpu_timer.cc:114] Skipping the delay kernel, measurement accuracy will be reduced\n",
      "W0000 00:00:1743944423.214788   72640 gpu_timer.cc:114] Skipping the delay kernel, measurement accuracy will be reduced\n",
      "W0000 00:00:1743944423.216223   72640 gpu_timer.cc:114] Skipping the delay kernel, measurement accuracy will be reduced\n",
      "W0000 00:00:1743944423.217656   72640 gpu_timer.cc:114] Skipping the delay kernel, measurement accuracy will be reduced\n",
      "W0000 00:00:1743944423.219090   72640 gpu_timer.cc:114] Skipping the delay kernel, measurement accuracy will be reduced\n",
      "W0000 00:00:1743944423.221174   72640 gpu_timer.cc:114] Skipping the delay kernel, measurement accuracy will be reduced\n",
      "W0000 00:00:1743944423.222586   72640 gpu_timer.cc:114] Skipping the delay kernel, measurement accuracy will be reduced\n",
      "W0000 00:00:1743944423.224032   72640 gpu_timer.cc:114] Skipping the delay kernel, measurement accuracy will be reduced\n",
      "W0000 00:00:1743944423.225462   72640 gpu_timer.cc:114] Skipping the delay kernel, measurement accuracy will be reduced\n",
      "W0000 00:00:1743944423.226906   72640 gpu_timer.cc:114] Skipping the delay kernel, measurement accuracy will be reduced\n",
      "W0000 00:00:1743944423.228306   72640 gpu_timer.cc:114] Skipping the delay kernel, measurement accuracy will be reduced\n",
      "W0000 00:00:1743944423.229746   72640 gpu_timer.cc:114] Skipping the delay kernel, measurement accuracy will be reduced\n",
      "W0000 00:00:1743944423.231195   72640 gpu_timer.cc:114] Skipping the delay kernel, measurement accuracy will be reduced\n",
      "W0000 00:00:1743944423.232644   72640 gpu_timer.cc:114] Skipping the delay kernel, measurement accuracy will be reduced\n",
      "W0000 00:00:1743944423.234464   72640 gpu_timer.cc:114] Skipping the delay kernel, measurement accuracy will be reduced\n",
      "W0000 00:00:1743944423.240754   72640 gpu_timer.cc:114] Skipping the delay kernel, measurement accuracy will be reduced\n",
      "W0000 00:00:1743944423.242560   72640 gpu_timer.cc:114] Skipping the delay kernel, measurement accuracy will be reduced\n",
      "W0000 00:00:1743944423.244431   72640 gpu_timer.cc:114] Skipping the delay kernel, measurement accuracy will be reduced\n",
      "W0000 00:00:1743944423.246067   72640 gpu_timer.cc:114] Skipping the delay kernel, measurement accuracy will be reduced\n",
      "W0000 00:00:1743944423.248450   72640 gpu_timer.cc:114] Skipping the delay kernel, measurement accuracy will be reduced\n",
      "W0000 00:00:1743944423.250501   72640 gpu_timer.cc:114] Skipping the delay kernel, measurement accuracy will be reduced\n",
      "W0000 00:00:1743944423.252070   72640 gpu_timer.cc:114] Skipping the delay kernel, measurement accuracy will be reduced\n",
      "W0000 00:00:1743944423.253703   72640 gpu_timer.cc:114] Skipping the delay kernel, measurement accuracy will be reduced\n",
      "W0000 00:00:1743944423.255474   72640 gpu_timer.cc:114] Skipping the delay kernel, measurement accuracy will be reduced\n",
      "W0000 00:00:1743944423.257381   72640 gpu_timer.cc:114] Skipping the delay kernel, measurement accuracy will be reduced\n",
      "W0000 00:00:1743944423.259275   72640 gpu_timer.cc:114] Skipping the delay kernel, measurement accuracy will be reduced\n",
      "W0000 00:00:1743944423.260917   72640 gpu_timer.cc:114] Skipping the delay kernel, measurement accuracy will be reduced\n",
      "W0000 00:00:1743944423.263178   72640 gpu_timer.cc:114] Skipping the delay kernel, measurement accuracy will be reduced\n",
      "W0000 00:00:1743944423.264769   72640 gpu_timer.cc:114] Skipping the delay kernel, measurement accuracy will be reduced\n",
      "W0000 00:00:1743944423.266363   72640 gpu_timer.cc:114] Skipping the delay kernel, measurement accuracy will be reduced\n",
      "W0000 00:00:1743944423.268198   72640 gpu_timer.cc:114] Skipping the delay kernel, measurement accuracy will be reduced\n",
      "W0000 00:00:1743944423.269799   72640 gpu_timer.cc:114] Skipping the delay kernel, measurement accuracy will be reduced\n",
      "W0000 00:00:1743944423.271383   72640 gpu_timer.cc:114] Skipping the delay kernel, measurement accuracy will be reduced\n",
      "W0000 00:00:1743944423.272964   72640 gpu_timer.cc:114] Skipping the delay kernel, measurement accuracy will be reduced\n"
     ]
    },
    {
     "name": "stdout",
     "output_type": "stream",
     "text": [
      "\u001B[1m7/7\u001B[0m \u001B[32m━━━━━━━━━━━━━━━━━━━━\u001B[0m\u001B[37m\u001B[0m \u001B[1m1s\u001B[0m 75ms/step\n",
      "F1 score: 0.4618481487983228\n",
      "              precision    recall  f1-score   support\n",
      "\n",
      "           0       0.67      0.03      0.05        73\n",
      "           1       0.00      0.00      0.00        28\n",
      "           2       0.85      0.88      0.86       188\n",
      "           3       0.59      0.94      0.73        67\n",
      "           4       0.52      0.91      0.67        70\n",
      "\n",
      "    accuracy                           0.69       426\n",
      "   macro avg       0.53      0.55      0.46       426\n",
      "weighted avg       0.67      0.69      0.61       426\n",
      "\n"
     ]
    },
    {
     "name": "stderr",
     "output_type": "stream",
     "text": [
      "W0000 00:00:1743944423.274573   72640 gpu_timer.cc:114] Skipping the delay kernel, measurement accuracy will be reduced\n",
      "W0000 00:00:1743944423.276341   72640 gpu_timer.cc:114] Skipping the delay kernel, measurement accuracy will be reduced\n",
      "W0000 00:00:1743944423.277968   72640 gpu_timer.cc:114] Skipping the delay kernel, measurement accuracy will be reduced\n",
      "W0000 00:00:1743944423.279610   72640 gpu_timer.cc:114] Skipping the delay kernel, measurement accuracy will be reduced\n",
      "W0000 00:00:1743944423.281274   72640 gpu_timer.cc:114] Skipping the delay kernel, measurement accuracy will be reduced\n",
      "W0000 00:00:1743944423.283740   72640 gpu_timer.cc:114] Skipping the delay kernel, measurement accuracy will be reduced\n",
      "W0000 00:00:1743944423.286251   72640 gpu_timer.cc:114] Skipping the delay kernel, measurement accuracy will be reduced\n",
      "W0000 00:00:1743944423.288108   72640 gpu_timer.cc:114] Skipping the delay kernel, measurement accuracy will be reduced\n",
      "W0000 00:00:1743944423.291030   72640 gpu_timer.cc:114] Skipping the delay kernel, measurement accuracy will be reduced\n",
      "W0000 00:00:1743944423.292740   72640 gpu_timer.cc:114] Skipping the delay kernel, measurement accuracy will be reduced\n",
      "W0000 00:00:1743944423.294511   72640 gpu_timer.cc:114] Skipping the delay kernel, measurement accuracy will be reduced\n",
      "W0000 00:00:1743944423.296462   72640 gpu_timer.cc:114] Skipping the delay kernel, measurement accuracy will be reduced\n",
      "W0000 00:00:1743944423.297989   72640 gpu_timer.cc:114] Skipping the delay kernel, measurement accuracy will be reduced\n",
      "W0000 00:00:1743944423.299445   72640 gpu_timer.cc:114] Skipping the delay kernel, measurement accuracy will be reduced\n",
      "W0000 00:00:1743944423.300938   72640 gpu_timer.cc:114] Skipping the delay kernel, measurement accuracy will be reduced\n",
      "W0000 00:00:1743944423.302786   72640 gpu_timer.cc:114] Skipping the delay kernel, measurement accuracy will be reduced\n",
      "W0000 00:00:1743944423.304289   72640 gpu_timer.cc:114] Skipping the delay kernel, measurement accuracy will be reduced\n",
      "W0000 00:00:1743944423.306111   72640 gpu_timer.cc:114] Skipping the delay kernel, measurement accuracy will be reduced\n",
      "W0000 00:00:1743944423.307898   72640 gpu_timer.cc:114] Skipping the delay kernel, measurement accuracy will be reduced\n",
      "W0000 00:00:1743944423.313989   72640 gpu_timer.cc:114] Skipping the delay kernel, measurement accuracy will be reduced\n",
      "W0000 00:00:1743944423.315287   72640 gpu_timer.cc:114] Skipping the delay kernel, measurement accuracy will be reduced\n",
      "W0000 00:00:1743944423.316682   72640 gpu_timer.cc:114] Skipping the delay kernel, measurement accuracy will be reduced\n",
      "W0000 00:00:1743944423.317930   72640 gpu_timer.cc:114] Skipping the delay kernel, measurement accuracy will be reduced\n",
      "W0000 00:00:1743944423.319182   72640 gpu_timer.cc:114] Skipping the delay kernel, measurement accuracy will be reduced\n",
      "W0000 00:00:1743944423.320433   72640 gpu_timer.cc:114] Skipping the delay kernel, measurement accuracy will be reduced\n",
      "W0000 00:00:1743944423.321682   72640 gpu_timer.cc:114] Skipping the delay kernel, measurement accuracy will be reduced\n",
      "W0000 00:00:1743944423.322940   72640 gpu_timer.cc:114] Skipping the delay kernel, measurement accuracy will be reduced\n",
      "W0000 00:00:1743944423.324479   72640 gpu_timer.cc:114] Skipping the delay kernel, measurement accuracy will be reduced\n",
      "W0000 00:00:1743944423.325727   72640 gpu_timer.cc:114] Skipping the delay kernel, measurement accuracy will be reduced\n",
      "W0000 00:00:1743944423.326974   72640 gpu_timer.cc:114] Skipping the delay kernel, measurement accuracy will be reduced\n",
      "W0000 00:00:1743944423.328219   72640 gpu_timer.cc:114] Skipping the delay kernel, measurement accuracy will be reduced\n",
      "W0000 00:00:1743944423.329475   72640 gpu_timer.cc:114] Skipping the delay kernel, measurement accuracy will be reduced\n",
      "W0000 00:00:1743944423.330851   72640 gpu_timer.cc:114] Skipping the delay kernel, measurement accuracy will be reduced\n",
      "W0000 00:00:1743944423.332100   72640 gpu_timer.cc:114] Skipping the delay kernel, measurement accuracy will be reduced\n",
      "W0000 00:00:1743944423.333373   72640 gpu_timer.cc:114] Skipping the delay kernel, measurement accuracy will be reduced\n",
      "W0000 00:00:1743944423.334646   72640 gpu_timer.cc:114] Skipping the delay kernel, measurement accuracy will be reduced\n",
      "W0000 00:00:1743944423.335899   72640 gpu_timer.cc:114] Skipping the delay kernel, measurement accuracy will be reduced\n",
      "W0000 00:00:1743944423.337309   72640 gpu_timer.cc:114] Skipping the delay kernel, measurement accuracy will be reduced\n",
      "W0000 00:00:1743944423.338576   72640 gpu_timer.cc:114] Skipping the delay kernel, measurement accuracy will be reduced\n",
      "W0000 00:00:1743944423.341374   72640 gpu_timer.cc:114] Skipping the delay kernel, measurement accuracy will be reduced\n",
      "W0000 00:00:1743944423.342643   72640 gpu_timer.cc:114] Skipping the delay kernel, measurement accuracy will be reduced\n",
      "W0000 00:00:1743944423.343931   72640 gpu_timer.cc:114] Skipping the delay kernel, measurement accuracy will be reduced\n",
      "W0000 00:00:1743944423.345517   72640 gpu_timer.cc:114] Skipping the delay kernel, measurement accuracy will be reduced\n",
      "W0000 00:00:1743944423.346773   72640 gpu_timer.cc:114] Skipping the delay kernel, measurement accuracy will be reduced\n",
      "W0000 00:00:1743944423.348048   72640 gpu_timer.cc:114] Skipping the delay kernel, measurement accuracy will be reduced\n",
      "W0000 00:00:1743944423.349324   72640 gpu_timer.cc:114] Skipping the delay kernel, measurement accuracy will be reduced\n",
      "W0000 00:00:1743944423.350609   72640 gpu_timer.cc:114] Skipping the delay kernel, measurement accuracy will be reduced\n",
      "W0000 00:00:1743944423.352310   72640 gpu_timer.cc:114] Skipping the delay kernel, measurement accuracy will be reduced\n",
      "W0000 00:00:1743944423.354079   72640 gpu_timer.cc:114] Skipping the delay kernel, measurement accuracy will be reduced\n",
      "W0000 00:00:1743944423.355357   72640 gpu_timer.cc:114] Skipping the delay kernel, measurement accuracy will be reduced\n",
      "W0000 00:00:1743944423.356746   72640 gpu_timer.cc:114] Skipping the delay kernel, measurement accuracy will be reduced\n",
      "W0000 00:00:1743944423.358348   72640 gpu_timer.cc:114] Skipping the delay kernel, measurement accuracy will be reduced\n",
      "W0000 00:00:1743944423.360180   72640 gpu_timer.cc:114] Skipping the delay kernel, measurement accuracy will be reduced\n",
      "W0000 00:00:1743944423.361526   72640 gpu_timer.cc:114] Skipping the delay kernel, measurement accuracy will be reduced\n"
     ]
    }
   ],
   "execution_count": 68
  },
  {
   "metadata": {
    "ExecuteTime": {
     "end_time": "2025-04-06T13:01:12.978989Z",
     "start_time": "2025-04-06T13:01:12.903861Z"
    }
   },
   "cell_type": "code",
   "source": [
    "plt.plot(hist_19.history[\"loss\"])\n",
    "plt.plot(hist_19.history[\"val_loss\"])"
   ],
   "id": "2dfaedfbbc0465ef",
   "outputs": [
    {
     "data": {
      "text/plain": [
       "[<matplotlib.lines.Line2D at 0x7166315b58a0>]"
      ]
     },
     "execution_count": 69,
     "metadata": {},
     "output_type": "execute_result"
    },
    {
     "data": {
      "text/plain": [
       "<Figure size 640x480 with 1 Axes>"
      ],
      "image/png": "[encoded data removed]"
     },
     "metadata": {},
     "output_type": "display_data"
    }
   ],
   "execution_count": 69
  },
  {
   "metadata": {
    "ExecuteTime": {
     "end_time": "2025-04-06T13:01:16.639078Z",
     "start_time": "2025-04-06T13:01:16.566191Z"
    }
   },
   "cell_type": "code",
   "source": [
    "plt.plot(hist_19.history[\"acc\"])\n",
    "plt.plot(hist_19.history[\"val_acc\"])"
   ],
   "id": "40bf6f6142bf956f",
   "outputs": [
    {
     "data": {
      "text/plain": [
       "[<matplotlib.lines.Line2D at 0x7166312c50c0>]"
      ]
     },
     "execution_count": 70,
     "metadata": {},
     "output_type": "execute_result"
    },
    {
     "data": {
      "text/plain": [
       "<Figure size 640x480 with 1 Axes>"
      ],
      "image/png": "[encoded data removed]"
     },
     "metadata": {},
     "output_type": "display_data"
    }
   ],
   "execution_count": 70
  },
  {
   "metadata": {
    "ExecuteTime": {
     "end_time": "2025-04-06T13:21:51.990729Z",
     "start_time": "2025-04-06T13:21:51.984775Z"
    }
   },
   "cell_type": "code",
   "source": [
    "classifiers = [\n",
    "    KNeighborsClassifier(3),\n",
    "    DecisionTreeClassifier(),\n",
    "    RandomForestClassifier(),\n",
    "    # XGBClassifier(),\n",
    "    # AdaBoostClassifier(),\n",
    "    # GaussianNB(),\n",
    "    # LinearDiscriminantAnalysis(),\n",
    "    # QuadraticDiscriminantAnalysis()\n",
    "]"
   ],
   "id": "f1c3569f0524d1df",
   "outputs": [],
   "execution_count": 77
  },
  {
   "metadata": {
    "ExecuteTime": {
     "end_time": "2025-04-06T13:22:21.036135Z",
     "start_time": "2025-04-06T13:21:54.411053Z"
    }
   },
   "cell_type": "code",
   "source": [
    "# logging for visual comparison\n",
    "log_cols=[\"Classifier\", \"Accuracy\", \"Log Loss\"]\n",
    "log = pd.DataFrame(columns=log_cols)\n",
    "X_train_squeezed = np.squeeze(X_train)\n",
    "X_test_squeezed = np.squeeze(X_test)\n",
    "for clf in classifiers:\n",
    "    clf.fit(X_train_squeezed, y_train)\n",
    "    name = clf.__class__.__name__\n",
    "    if VBS:\n",
    "        print(\"-\"*27)\n",
    "        print(name)\n",
    "        print('----------Results----------')\n",
    "    train_predictions = clf.predict(X_test_squeezed)\n",
    "    acc = accuracy_score(y_test, train_predictions)\n",
    "    if VBS:\n",
    "        print(\"Accuracy: {:.2%}\".format(acc))\n",
    "    train_predictions = clf.predict_proba(X_test_squeezed)\n",
    "    ll = log_loss(y_test, train_predictions)\n",
    "    if VBS:\n",
    "        print(\"Log Loss: {:.2f}\".format(ll))\n",
    "    log_entry = pd.DataFrame([[name, acc*100, ll]], columns=log_cols)\n",
    "    log = pd.concat([log, log_entry], ignore_index=True)"
   ],
   "id": "651ee841c753e1bf",
   "outputs": [
    {
     "name": "stdout",
     "output_type": "stream",
     "text": [
      "---------------------------\n",
      "KNeighborsClassifier\n",
      "----------Results----------\n",
      "Accuracy: 10.09%\n",
      "Log Loss: 26.64\n",
      "---------------------------\n",
      "DecisionTreeClassifier\n",
      "----------Results----------\n",
      "Accuracy: 36.15%\n",
      "Log Loss: 23.01\n",
      "---------------------------\n",
      "RandomForestClassifier\n",
      "----------Results----------\n",
      "Accuracy: 57.51%\n",
      "Log Loss: 1.14\n"
     ]
    }
   ],
   "execution_count": 78
  },
  {
   "metadata": {
    "ExecuteTime": {
     "end_time": "2025-04-06T13:22:50.044367Z",
     "start_time": "2025-04-06T13:22:49.830968Z"
    }
   },
   "cell_type": "code",
   "source": [
    "pdf_report2 = PdfPages('Classifiers_Results.pdf')\n",
    "fig1 = plt.figure()\n",
    "sns.set_color_codes(\"muted\")\n",
    "sns.barplot(x='Accuracy', y='Classifier', data=log, color=\"b\")\n",
    "plt.xlabel('Accuracy %')\n",
    "plt.title('Classifier Accuracy')\n",
    "pdf_report2.savefig(fig1, bbox_inches='tight')\n",
    "plt.show()\n",
    "\n",
    "fig2 = plt.figure()\n",
    "sns.set_color_codes(\"muted\")\n",
    "sns.barplot(x='Log Loss', y='Classifier', data=log, color=\"r\")\n",
    "plt.xlabel('Log Loss')\n",
    "plt.title('Classifier Log Loss')\n",
    "pdf_report2.savefig(fig2, bbox_inches='tight')\n",
    "plt.show()\n",
    "pdf_report2.close()"
   ],
   "id": "47701cc07c7ccfb0",
   "outputs": [
    {
     "data": {
      "text/plain": [
       "<Figure size 640x480 with 1 Axes>"
      ],
      "image/png": "[encoded data removed]"
     },
     "metadata": {},
     "output_type": "display_data"
    },
    {
     "data": {
      "text/plain": [
       "<Figure size 640x480 with 1 Axes>"
      ],
      "image/png": "[encoded data removed]"
     },
     "metadata": {},
     "output_type": "display_data"
    }
   ],
   "execution_count": 80
  },
  {
   "metadata": {
    "ExecuteTime": {
     "end_time": "2025-04-06T13:25:35.358611Z",
     "start_time": "2025-04-06T13:25:35.356401Z"
    }
   },
   "cell_type": "code",
   "source": [
    "svm_wo_pca = SVC(kernel='rbf')\n",
    "svm_wo_pca.fit(X_train, y_train)"
   ],
   "id": "a013fb39a4465410",
   "outputs": [],
   "execution_count": 82
  },
  {
   "metadata": {},
   "cell_type": "code",
   "source": [
    "e_pred_svm_wo_pca = svm_wo_pca.predict(X_test)\n",
    "e_pred_prob_svm_wo_pca = svm_wo_pca.decision_function(X_test)"
   ],
   "id": "e6e1515ed974364f",
   "outputs": [],
   "execution_count": null
  }
 ],
 "metadata": {
  "kernelspec": {
   "display_name": "Python 3",
   "language": "python",
   "name": "python3"
  },
  "language_info": {
   "codemirror_mode": {
    "name": "ipython",
    "version": 2
   },
   "file_extension": ".py",
   "mimetype": "text/x-python",
   "name": "python",
   "nbconvert_exporter": "python",
   "pygments_lexer": "ipython2",
   "version": "2.7.6"
  }
 },
 "nbformat": 4,
 "nbformat_minor": 5
}
